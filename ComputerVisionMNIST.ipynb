{
  "nbformat": 4,
  "nbformat_minor": 0,
  "metadata": {
    "colab": {
      "name": "ComputerVisionMNIST.ipynb",
      "provenance": []
    },
    "kernelspec": {
      "name": "python3",
      "display_name": "Python 3"
    },
    "language_info": {
      "name": "python"
    }
  },
  "cells": [
    {
      "cell_type": "markdown",
      "metadata": {
        "id": "Td0OuRb4SzUr"
      },
      "source": [
        "Fashion MNIST dataset"
      ]
    },
    {
      "cell_type": "code",
      "metadata": {
        "colab": {
          "base_uri": "https://localhost:8080/"
        },
        "id": "oS0lSRyRSv4f",
        "outputId": "8a46c2a2-466f-4f90-e71e-aa46433d9c0e"
      },
      "source": [
        "from keras.datasets import fashion_mnist\n",
        "\n",
        "(train_X,train_Y), (test_X,test_Y) = fashion_mnist.load_data()"
      ],
      "execution_count": 1,
      "outputs": [
        {
          "output_type": "stream",
          "text": [
            "Downloading data from https://storage.googleapis.com/tensorflow/tf-keras-datasets/train-labels-idx1-ubyte.gz\n",
            "32768/29515 [=================================] - 0s 0us/step\n",
            "40960/29515 [=========================================] - 0s 0us/step\n",
            "Downloading data from https://storage.googleapis.com/tensorflow/tf-keras-datasets/train-images-idx3-ubyte.gz\n",
            "26427392/26421880 [==============================] - 0s 0us/step\n",
            "26435584/26421880 [==============================] - 0s 0us/step\n",
            "Downloading data from https://storage.googleapis.com/tensorflow/tf-keras-datasets/t10k-labels-idx1-ubyte.gz\n",
            "16384/5148 [===============================================================================================] - 0s 0us/step\n",
            "Downloading data from https://storage.googleapis.com/tensorflow/tf-keras-datasets/t10k-images-idx3-ubyte.gz\n",
            "4423680/4422102 [==============================] - 0s 0us/step\n",
            "4431872/4422102 [==============================] - 0s 0us/step\n"
          ],
          "name": "stdout"
        }
      ]
    },
    {
      "cell_type": "markdown",
      "metadata": {
        "id": "1la6P606S4H_"
      },
      "source": [
        "Analyze the data"
      ]
    },
    {
      "cell_type": "code",
      "metadata": {
        "colab": {
          "base_uri": "https://localhost:8080/"
        },
        "id": "Lw0Qd8llRyi7",
        "outputId": "10bec473-2add-4e5b-fe39-2a869686cf22"
      },
      "source": [
        "import numpy as np\n",
        "\n",
        "from tensorflow.keras.utils import to_categorical\n",
        "\n",
        "import matplotlib.pyplot as plt\n",
        "\n",
        "%matplotlib inline\n",
        "\n",
        "print('Training data shape : ', train_X.shape,\n",
        "train_Y.shape)\n",
        "\n",
        "print('Testing data shape : ', test_X.shape, test_Y.shape)"
      ],
      "execution_count": 2,
      "outputs": [
        {
          "output_type": "stream",
          "text": [
            "Training data shape :  (60000, 28, 28) (60000,)\n",
            "Testing data shape :  (10000, 28, 28) (10000,)\n"
          ],
          "name": "stdout"
        }
      ]
    },
    {
      "cell_type": "code",
      "metadata": {
        "colab": {
          "base_uri": "https://localhost:8080/"
        },
        "id": "JQYXA00dR1K2",
        "outputId": "15e21ec5-b363-45fb-e48d-dcd7727370d2"
      },
      "source": [
        "# Find the unique numbers from the train labels\n",
        "\n",
        "classes = np.unique(train_Y)\n",
        "\n",
        "nClasses = len(classes)\n",
        "\n",
        "print('Total number of outputs : ', nClasses)\n",
        "\n",
        "print('Output classes : ', classes)"
      ],
      "execution_count": 3,
      "outputs": [
        {
          "output_type": "stream",
          "text": [
            "Total number of outputs :  10\n",
            "Output classes :  [0 1 2 3 4 5 6 7 8 9]\n"
          ],
          "name": "stdout"
        }
      ]
    },
    {
      "cell_type": "code",
      "metadata": {
        "colab": {
          "base_uri": "https://localhost:8080/",
          "height": 209
        },
        "id": "hzMmsq0oSj9a",
        "outputId": "f8710d1b-1d53-47f2-8943-7746492f300a"
      },
      "source": [
        "plt.figure(figsize=[5,5])#\n",
        "\n",
        "# Display the first image in training data\n",
        "\n",
        "plt.subplot(121)\n",
        "\n",
        "plt.imshow(train_X[0,:,:], cmap='gray')\n",
        "\n",
        "plt.title(\"Ground Truth : {}\".format(train_Y[0]))\n",
        "\n",
        "# Display the first image in testing data\n",
        "\n",
        "plt.subplot(122)\n",
        "\n",
        "plt.imshow(test_X[0,:,:], cmap='gray')\n",
        "\n",
        "plt.title(\"Ground Truth : {}\".format(test_Y[0]))"
      ],
      "execution_count": 4,
      "outputs": [
        {
          "output_type": "execute_result",
          "data": {
            "text/plain": [
              "Text(0.5, 1.0, 'Ground Truth : 9')"
            ]
          },
          "metadata": {
            "tags": []
          },
          "execution_count": 4
        },
        {
          "output_type": "display_data",
          "data": {
            "image/png": "[encoded data removed]",
            "text/plain": [
              "<Figure size 360x360 with 2 Axes>"
            ]
          },
          "metadata": {
            "tags": [],
            "needs_background": "light"
          }
        }
      ]
    },
    {
      "cell_type": "markdown",
      "metadata": {
        "id": "kJsqTv72TFWE"
      },
      "source": [
        "Data Preprocessing"
      ]
    },
    {
      "cell_type": "code",
      "metadata": {
        "colab": {
          "base_uri": "https://localhost:8080/"
        },
        "id": "1U3iuivZSoTf",
        "outputId": "a934ff7d-e562-488b-eedf-fc14417e81ab"
      },
      "source": [
        "train_X = train_X.reshape(-1, 28,28, 1)\n",
        "\n",
        "test_X = test_X.reshape(-1, 28,28, 1)\n",
        "\n",
        "train_X.shape, test_X.shape"
      ],
      "execution_count": 5,
      "outputs": [
        {
          "output_type": "execute_result",
          "data": {
            "text/plain": [
              "((60000, 28, 28, 1), (10000, 28, 28, 1))"
            ]
          },
          "metadata": {
            "tags": []
          },
          "execution_count": 5
        }
      ]
    },
    {
      "cell_type": "code",
      "metadata": {
        "id": "AIzG_K5bTMz9"
      },
      "source": [
        "train_X = train_X.astype('float32')\n",
        "\n",
        "test_X = test_X.astype('float32')\n",
        "\n",
        "train_X = train_X / 255.\n",
        "\n",
        "test_X = test_X / 255."
      ],
      "execution_count": 6,
      "outputs": []
    },
    {
      "cell_type": "markdown",
      "metadata": {
        "id": "vCxkHy4nTT_p"
      },
      "source": [
        "One Hot Encoding"
      ]
    },
    {
      "cell_type": "code",
      "metadata": {
        "colab": {
          "base_uri": "https://localhost:8080/"
        },
        "id": "HlWZX6tlTO-o",
        "outputId": "9e7ce0eb-447d-4721-878d-8d670dd8f35b"
      },
      "source": [
        "import tensorflow as tf\n",
        "\n",
        "# Change the labels from categorical to one-hot encoding\n",
        "\n",
        "train_Y_one_hot = tf.keras.utils.to_categorical(train_Y)\n",
        "\n",
        "test_Y_one_hot = tf.keras.utils.to_categorical(test_Y)\n",
        "\n",
        "# Display the change for category label using one-hot\n",
        "encodingtrain_Y_one_hot = tf.keras.utils.to_categorical(train_Y)\n",
        "\n",
        "test_Y_one_hot = tf.keras.utils.to_categorical(test_Y)\n",
        "\n",
        "print('Original label:', train_Y[0])\n",
        "\n",
        "print('After conversion to one-hot:', train_Y_one_hot[0])"
      ],
      "execution_count": 9,
      "outputs": [
        {
          "output_type": "stream",
          "text": [
            "Original label: 9\n",
            "After conversion to one-hot: [0. 0. 0. 0. 0. 0. 0. 0. 0. 1.]\n"
          ],
          "name": "stdout"
        }
      ]
    },
    {
      "cell_type": "markdown",
      "metadata": {
        "id": "Hkw17ajdTdsp"
      },
      "source": [
        "Splitting Data"
      ]
    },
    {
      "cell_type": "code",
      "metadata": {
        "colab": {
          "base_uri": "https://localhost:8080/"
        },
        "id": "4GQ0ketATVl4",
        "outputId": "0fc5c3d5-55e2-4dd0-f92b-6df0fb682f00"
      },
      "source": [
        "from sklearn.model_selection import train_test_split\n",
        "\n",
        "train_X,valid_X,train_label,valid_label = train_test_split(train_X, train_Y_one_hot,\n",
        "test_size=0.2, random_state=13)\n",
        "\n",
        "# For one last time let's check the shape of training and validation set.\n",
        "\n",
        "train_X.shape,valid_X.shape,train_label.shape,valid_label.shape"
      ],
      "execution_count": 10,
      "outputs": [
        {
          "output_type": "execute_result",
          "data": {
            "text/plain": [
              "((48000, 28, 28, 1), (12000, 28, 28, 1), (48000, 10), (12000, 10))"
            ]
          },
          "metadata": {
            "tags": []
          },
          "execution_count": 10
        }
      ]
    },
    {
      "cell_type": "markdown",
      "metadata": {
        "id": "UBBs3aIvTp7P"
      },
      "source": [
        "Model the Data"
      ]
    },
    {
      "cell_type": "code",
      "metadata": {
        "id": "-w8H25EfTiE7"
      },
      "source": [
        "import keras\n",
        "\n",
        "from keras.models import Sequential,Input,Model\n",
        "\n",
        "from keras.layers import Dense, Dropout, Flatten\n",
        "\n",
        "from keras.layers import Conv2D, MaxPooling2D\n",
        "\n",
        "from keras.layers.normalization import BatchNormalization\n",
        "\n",
        "from keras.layers.advanced_activations import LeakyReLU\n",
        "\n",
        "batch_size = 64\n",
        "\n",
        "epochs = 20\n",
        "\n",
        "num_classes = 10"
      ],
      "execution_count": 11,
      "outputs": []
    },
    {
      "cell_type": "markdown",
      "metadata": {
        "id": "Ftk6PdB9TzaT"
      },
      "source": [
        "Architecture"
      ]
    },
    {
      "cell_type": "code",
      "metadata": {
        "colab": {
          "base_uri": "https://localhost:8080/"
        },
        "id": "OQz6kdCfTqsX",
        "outputId": "69abcc7d-4320-4437-c9a2-42b9af398771"
      },
      "source": [
        "fashion_model = Sequential()\n",
        "\n",
        "fashion_model.add(Conv2D(32, kernel_size=(3,\n",
        "3),activation='linear',input_shape=(28,28,1),padding='same'))\n",
        "\n",
        "fashion_model.add(LeakyReLU(alpha=0.1))\n",
        "\n",
        "fashion_model.add(MaxPooling2D((2, 2),padding='same'))\n",
        "\n",
        "fashion_model.add(Conv2D(64, (3, 3), activation='linear',padding='same'))\n",
        "\n",
        "fashion_model.add(LeakyReLU(alpha=0.1))\n",
        "\n",
        "fashion_model.add(MaxPooling2D(pool_size=(2, 2),padding='same'))\n",
        "\n",
        "fashion_model.add(Conv2D(128, (3, 3), activation='linear',padding='same'))\n",
        "\n",
        "fashion_model.add(LeakyReLU(alpha=0.1))\n",
        "\n",
        "fashion_model.add(MaxPooling2D(pool_size=(2, 2),padding='same'))\n",
        "\n",
        "fashion_model.add(Flatten())\n",
        "\n",
        "fashion_model.add(Dense(128, activation='linear'))\n",
        "\n",
        "fashion_model.add(LeakyReLU(alpha=0.1))\n",
        "\n",
        "fashion_model.add(Dense(num_classes, activation='softmax'))\n",
        "\n",
        "fashion_model.compile(loss=keras.losses.categorical_crossentropy,\n",
        "optimizer=keras.optimizers.Adam(),metrics=['accuracy'])\n",
        "\n",
        "fashion_model.summary()"
      ],
      "execution_count": 12,
      "outputs": [
        {
          "output_type": "stream",
          "text": [
            "Model: \"sequential\"\n",
            "_________________________________________________________________\n",
            "Layer (type)                 Output Shape              Param #   \n",
            "=================================================================\n",
            "conv2d (Conv2D)              (None, 28, 28, 32)        320       \n",
            "_________________________________________________________________\n",
            "leaky_re_lu (LeakyReLU)      (None, 28, 28, 32)        0         \n",
            "_________________________________________________________________\n",
            "max_pooling2d (MaxPooling2D) (None, 14, 14, 32)        0         \n",
            "_________________________________________________________________\n",
            "conv2d_1 (Conv2D)            (None, 14, 14, 64)        18496     \n",
            "_________________________________________________________________\n",
            "leaky_re_lu_1 (LeakyReLU)    (None, 14, 14, 64)        0         \n",
            "_________________________________________________________________\n",
            "max_pooling2d_1 (MaxPooling2 (None, 7, 7, 64)          0         \n",
            "_________________________________________________________________\n",
            "conv2d_2 (Conv2D)            (None, 7, 7, 128)         73856     \n",
            "_________________________________________________________________\n",
            "leaky_re_lu_2 (LeakyReLU)    (None, 7, 7, 128)         0         \n",
            "_________________________________________________________________\n",
            "max_pooling2d_2 (MaxPooling2 (None, 4, 4, 128)         0         \n",
            "_________________________________________________________________\n",
            "flatten (Flatten)            (None, 2048)              0         \n",
            "_________________________________________________________________\n",
            "dense (Dense)                (None, 128)               262272    \n",
            "_________________________________________________________________\n",
            "leaky_re_lu_3 (LeakyReLU)    (None, 128)               0         \n",
            "_________________________________________________________________\n",
            "dense_1 (Dense)              (None, 10)                1290      \n",
            "=================================================================\n",
            "Total params: 356,234\n",
            "Trainable params: 356,234\n",
            "Non-trainable params: 0\n",
            "_________________________________________________________________\n"
          ],
          "name": "stdout"
        }
      ]
    },
    {
      "cell_type": "markdown",
      "metadata": {
        "id": "FPBhUiLBT7At"
      },
      "source": [
        "Train and test the Model"
      ]
    },
    {
      "cell_type": "code",
      "metadata": {
        "colab": {
          "base_uri": "https://localhost:8080/"
        },
        "id": "kxWuQAJLTxUz",
        "outputId": "4cd968c7-839b-4015-cee5-3c667f87948a"
      },
      "source": [
        "fashion_train = fashion_model.fit(train_X, train_label,\n",
        "batch_size=batch_size,epochs=epochs,verbose=1,validation_data=(valid_X, valid_label))\n",
        "\n",
        "test_eval = fashion_model.evaluate(test_X, test_Y_one_hot, verbose=0)\n",
        "\n",
        "print('Test loss:', test_eval[0])\n",
        "\n",
        "print('Test accuracy:', test_eval[1])"
      ],
      "execution_count": 13,
      "outputs": [
        {
          "output_type": "stream",
          "text": [
            "Epoch 1/20\n",
            "750/750 [==============================] - 98s 110ms/step - loss: 0.6598 - accuracy: 0.7588 - val_loss: 0.3355 - val_accuracy: 0.8766\n",
            "Epoch 2/20\n",
            "750/750 [==============================] - 82s 109ms/step - loss: 0.3022 - accuracy: 0.8872 - val_loss: 0.2726 - val_accuracy: 0.9008\n",
            "Epoch 3/20\n",
            "750/750 [==============================] - 82s 109ms/step - loss: 0.2400 - accuracy: 0.9130 - val_loss: 0.2517 - val_accuracy: 0.9060\n",
            "Epoch 4/20\n",
            "750/750 [==============================] - 82s 109ms/step - loss: 0.2038 - accuracy: 0.9249 - val_loss: 0.2382 - val_accuracy: 0.9126\n",
            "Epoch 5/20\n",
            "750/750 [==============================] - 82s 109ms/step - loss: 0.1799 - accuracy: 0.9332 - val_loss: 0.2249 - val_accuracy: 0.9193\n",
            "Epoch 6/20\n",
            "750/750 [==============================] - 82s 109ms/step - loss: 0.1555 - accuracy: 0.9429 - val_loss: 0.2318 - val_accuracy: 0.9197\n",
            "Epoch 7/20\n",
            "750/750 [==============================] - 81s 109ms/step - loss: 0.1376 - accuracy: 0.9492 - val_loss: 0.2402 - val_accuracy: 0.9147\n",
            "Epoch 8/20\n",
            "750/750 [==============================] - 82s 109ms/step - loss: 0.1110 - accuracy: 0.9571 - val_loss: 0.2370 - val_accuracy: 0.9233\n",
            "Epoch 9/20\n",
            "750/750 [==============================] - 82s 109ms/step - loss: 0.0994 - accuracy: 0.9631 - val_loss: 0.2520 - val_accuracy: 0.9178\n",
            "Epoch 10/20\n",
            "750/750 [==============================] - 81s 108ms/step - loss: 0.0819 - accuracy: 0.9706 - val_loss: 0.2874 - val_accuracy: 0.9202\n",
            "Epoch 11/20\n",
            "750/750 [==============================] - 81s 108ms/step - loss: 0.0713 - accuracy: 0.9743 - val_loss: 0.2768 - val_accuracy: 0.9220\n",
            "Epoch 12/20\n",
            "750/750 [==============================] - 81s 109ms/step - loss: 0.0633 - accuracy: 0.9759 - val_loss: 0.2897 - val_accuracy: 0.9197\n",
            "Epoch 13/20\n",
            "750/750 [==============================] - 81s 109ms/step - loss: 0.0472 - accuracy: 0.9824 - val_loss: 0.3462 - val_accuracy: 0.9159\n",
            "Epoch 14/20\n",
            "750/750 [==============================] - 81s 108ms/step - loss: 0.0454 - accuracy: 0.9829 - val_loss: 0.3383 - val_accuracy: 0.9215\n",
            "Epoch 15/20\n",
            "750/750 [==============================] - 81s 108ms/step - loss: 0.0383 - accuracy: 0.9863 - val_loss: 0.3460 - val_accuracy: 0.9240\n",
            "Epoch 16/20\n",
            "750/750 [==============================] - 81s 108ms/step - loss: 0.0344 - accuracy: 0.9874 - val_loss: 0.3611 - val_accuracy: 0.9211\n",
            "Epoch 17/20\n",
            "750/750 [==============================] - 81s 108ms/step - loss: 0.0311 - accuracy: 0.9891 - val_loss: 0.3805 - val_accuracy: 0.9205\n",
            "Epoch 18/20\n",
            "750/750 [==============================] - 81s 108ms/step - loss: 0.0277 - accuracy: 0.9894 - val_loss: 0.4380 - val_accuracy: 0.9189\n",
            "Epoch 19/20\n",
            "750/750 [==============================] - 81s 108ms/step - loss: 0.0301 - accuracy: 0.9881 - val_loss: 0.4341 - val_accuracy: 0.9195\n",
            "Epoch 20/20\n",
            "750/750 [==============================] - 81s 109ms/step - loss: 0.0262 - accuracy: 0.9900 - val_loss: 0.4455 - val_accuracy: 0.9203\n",
            "Test loss: 0.464794784784317\n",
            "Test accuracy: 0.9164999723434448\n"
          ],
          "name": "stdout"
        }
      ]
    },
    {
      "cell_type": "code",
      "metadata": {
        "colab": {
          "base_uri": "https://localhost:8080/",
          "height": 545
        },
        "id": "T9nXU9nPT8Ar",
        "outputId": "e334e360-14bc-4668-92ef-840949b5dfe0"
      },
      "source": [
        "accuracy = fashion_train.history['accuracy']\n",
        "\n",
        "val_accuracy = fashion_train.history['val_accuracy']\n",
        "\n",
        "loss = fashion_train.history['loss']\n",
        "\n",
        "val_loss = fashion_train.history['val_loss']\n",
        "\n",
        "epochs = range(len(accuracy))\n",
        "\n",
        "plt.plot(epochs, accuracy, 'bo', label='Training accuracy')\n",
        "\n",
        "plt.plot(epochs, val_accuracy, 'b', label='Validation accuracy')\n",
        "\n",
        "plt.title('Training and validation accuracy')\n",
        "\n",
        "plt.legend()\n",
        "\n",
        "plt.figure()\n",
        "\n",
        "plt.plot(epochs, loss, 'bo', label='Training loss')\n",
        "\n",
        "plt.plot(epochs, val_loss, 'b', label='Validation loss')\n",
        "\n",
        "plt.title('Training and validation loss')\n",
        "\n",
        "plt.legend()\n",
        "\n",
        "plt.show()"
      ],
      "execution_count": 14,
      "outputs": [
        {
          "output_type": "display_data",
          "data": {
            "image/png": "[encoded data removed]",
            "text/plain": [
              "<Figure size 432x288 with 1 Axes>"
            ]
          },
          "metadata": {
            "tags": [],
            "needs_background": "light"
          }
        },
        {
          "output_type": "display_data",
          "data": {
            "image/png": "[encoded data removed]",
            "text/plain": [
              "<Figure size 432x288 with 1 Axes>"
            ]
          },
          "metadata": {
            "tags": [],
            "needs_background": "light"
          }
        }
      ]
    },
    {
      "cell_type": "markdown",
      "metadata": {
        "id": "4mi8DV61UPex"
      },
      "source": [
        "#####The validation loss shows that this is the sign of overfitting, similar to validation accuracy it\n",
        "#####linearly decreased but after 4-5 epochs, it started to increase. This means that the model tried to\n",
        "#####memorize the data and succeeded."
      ]
    },
    {
      "cell_type": "markdown",
      "metadata": {
        "id": "uVodtbOeUieU"
      },
      "source": [
        "Adding Dropout in the network"
      ]
    },
    {
      "cell_type": "code",
      "metadata": {
        "colab": {
          "base_uri": "https://localhost:8080/"
        },
        "id": "24Clqf0RUgDU",
        "outputId": "43afee13-e773-406a-e50d-ab32b091adf5"
      },
      "source": [
        "fashion_model = Sequential()\n",
        "\n",
        "fashion_model.add(Conv2D(32, kernel_size=(3,\n",
        "3),activation='linear',padding='same',input_shape=(28,28,1)))\n",
        "\n",
        "fashion_model.add(LeakyReLU(alpha=0.1))\n",
        "\n",
        "fashion_model.add(MaxPooling2D((2, 2),padding='same'))\n",
        "\n",
        "fashion_model.add(Dropout(0.25))\n",
        "\n",
        "fashion_model.add(Conv2D(64, (3, 3), activation='linear',padding='same'))\n",
        "\n",
        "fashion_model.add(LeakyReLU(alpha=0.1))\n",
        "\n",
        "fashion_model.add(MaxPooling2D(pool_size=(2, 2),padding='same'))\n",
        "\n",
        "fashion_model.add(Dropout(0.25))\n",
        "\n",
        "fashion_model.add(Conv2D(128, (3, 3), activation='linear',padding='same'))\n",
        "\n",
        "fashion_model.add(LeakyReLU(alpha=0.1))\n",
        "\n",
        "fashion_model.add(MaxPooling2D(pool_size=(2, 2),padding='same'))\n",
        "\n",
        "fashion_model.add(Dropout(0.4))\n",
        "\n",
        "fashion_model.add(Flatten())\n",
        "\n",
        "fashion_model.add(Dense(128, activation='linear'))\n",
        "\n",
        "fashion_model.add(LeakyReLU(alpha=0.1))\n",
        "\n",
        "fashion_model.add(Dropout(0.3))\n",
        "\n",
        "fashion_model.add(Dense(num_classes, activation='softmax'))\n",
        "\n",
        "fashion_model.summary()"
      ],
      "execution_count": 15,
      "outputs": [
        {
          "output_type": "stream",
          "text": [
            "Model: \"sequential_1\"\n",
            "_________________________________________________________________\n",
            "Layer (type)                 Output Shape              Param #   \n",
            "=================================================================\n",
            "conv2d_3 (Conv2D)            (None, 28, 28, 32)        320       \n",
            "_________________________________________________________________\n",
            "leaky_re_lu_4 (LeakyReLU)    (None, 28, 28, 32)        0         \n",
            "_________________________________________________________________\n",
            "max_pooling2d_3 (MaxPooling2 (None, 14, 14, 32)        0         \n",
            "_________________________________________________________________\n",
            "dropout (Dropout)            (None, 14, 14, 32)        0         \n",
            "_________________________________________________________________\n",
            "conv2d_4 (Conv2D)            (None, 14, 14, 64)        18496     \n",
            "_________________________________________________________________\n",
            "leaky_re_lu_5 (LeakyReLU)    (None, 14, 14, 64)        0         \n",
            "_________________________________________________________________\n",
            "max_pooling2d_4 (MaxPooling2 (None, 7, 7, 64)          0         \n",
            "_________________________________________________________________\n",
            "dropout_1 (Dropout)          (None, 7, 7, 64)          0         \n",
            "_________________________________________________________________\n",
            "conv2d_5 (Conv2D)            (None, 7, 7, 128)         73856     \n",
            "_________________________________________________________________\n",
            "leaky_re_lu_6 (LeakyReLU)    (None, 7, 7, 128)         0         \n",
            "_________________________________________________________________\n",
            "max_pooling2d_5 (MaxPooling2 (None, 4, 4, 128)         0         \n",
            "_________________________________________________________________\n",
            "dropout_2 (Dropout)          (None, 4, 4, 128)         0         \n",
            "_________________________________________________________________\n",
            "flatten_1 (Flatten)          (None, 2048)              0         \n",
            "_________________________________________________________________\n",
            "dense_2 (Dense)              (None, 128)               262272    \n",
            "_________________________________________________________________\n",
            "leaky_re_lu_7 (LeakyReLU)    (None, 128)               0         \n",
            "_________________________________________________________________\n",
            "dropout_3 (Dropout)          (None, 128)               0         \n",
            "_________________________________________________________________\n",
            "dense_3 (Dense)              (None, 10)                1290      \n",
            "=================================================================\n",
            "Total params: 356,234\n",
            "Trainable params: 356,234\n",
            "Non-trainable params: 0\n",
            "_________________________________________________________________\n"
          ],
          "name": "stdout"
        }
      ]
    },
    {
      "cell_type": "code",
      "metadata": {
        "colab": {
          "base_uri": "https://localhost:8080/"
        },
        "id": "SgiHV1J1Uud9",
        "outputId": "2c6f0ea7-a7bd-4b08-bff7-0a9892eec4a2"
      },
      "source": [
        "fashion_model.compile(loss=keras.losses.categorical_crossentropy,\n",
        "optimizer=keras.optimizers.Adam(),metrics=['accuracy'])\n",
        "\n",
        "fashion_train_dropout = fashion_model.fit(train_X, train_label,\n",
        "batch_size=batch_size,epochs=20,verbose=1,validation_data=(valid_X, valid_label))\n",
        "\n",
        "fashion_model.save(\"fashion_model_dropout.h5py\")\n",
        "\n",
        "test_eval = fashion_model.evaluate(test_X, test_Y_one_hot, verbose=1)\n",
        "\n",
        "print('Test loss:', test_eval[0])\n",
        "\n",
        "print('Test accuracy:', test_eval[1])"
      ],
      "execution_count": 16,
      "outputs": [
        {
          "output_type": "stream",
          "text": [
            "Epoch 1/20\n",
            "750/750 [==============================] - 89s 116ms/step - loss: 0.8744 - accuracy: 0.6720 - val_loss: 0.4017 - val_accuracy: 0.8543\n",
            "Epoch 2/20\n",
            "750/750 [==============================] - 87s 116ms/step - loss: 0.3998 - accuracy: 0.8538 - val_loss: 0.3103 - val_accuracy: 0.8845\n",
            "Epoch 3/20\n",
            "750/750 [==============================] - 87s 116ms/step - loss: 0.3365 - accuracy: 0.8766 - val_loss: 0.2858 - val_accuracy: 0.8935\n",
            "Epoch 4/20\n",
            "750/750 [==============================] - 87s 116ms/step - loss: 0.3052 - accuracy: 0.8875 - val_loss: 0.2589 - val_accuracy: 0.9066\n",
            "Epoch 5/20\n",
            "750/750 [==============================] - 87s 115ms/step - loss: 0.2781 - accuracy: 0.8996 - val_loss: 0.2483 - val_accuracy: 0.9082\n",
            "Epoch 6/20\n",
            "750/750 [==============================] - 87s 115ms/step - loss: 0.2659 - accuracy: 0.9012 - val_loss: 0.2389 - val_accuracy: 0.9127\n",
            "Epoch 7/20\n",
            "750/750 [==============================] - 87s 116ms/step - loss: 0.2559 - accuracy: 0.9048 - val_loss: 0.2318 - val_accuracy: 0.9158\n",
            "Epoch 8/20\n",
            "750/750 [==============================] - 87s 116ms/step - loss: 0.2491 - accuracy: 0.9078 - val_loss: 0.2319 - val_accuracy: 0.9135\n",
            "Epoch 9/20\n",
            "750/750 [==============================] - 87s 116ms/step - loss: 0.2391 - accuracy: 0.9108 - val_loss: 0.2202 - val_accuracy: 0.9187\n",
            "Epoch 10/20\n",
            "750/750 [==============================] - 87s 116ms/step - loss: 0.2303 - accuracy: 0.9141 - val_loss: 0.2350 - val_accuracy: 0.9141\n",
            "Epoch 11/20\n",
            "750/750 [==============================] - 87s 116ms/step - loss: 0.2257 - accuracy: 0.9133 - val_loss: 0.2275 - val_accuracy: 0.9176\n",
            "Epoch 12/20\n",
            "750/750 [==============================] - 87s 116ms/step - loss: 0.2185 - accuracy: 0.9167 - val_loss: 0.2123 - val_accuracy: 0.9222\n",
            "Epoch 13/20\n",
            "750/750 [==============================] - 87s 116ms/step - loss: 0.2154 - accuracy: 0.9193 - val_loss: 0.2151 - val_accuracy: 0.9227\n",
            "Epoch 14/20\n",
            "750/750 [==============================] - 87s 116ms/step - loss: 0.2157 - accuracy: 0.9194 - val_loss: 0.2186 - val_accuracy: 0.9224\n",
            "Epoch 15/20\n",
            "750/750 [==============================] - 86s 115ms/step - loss: 0.2114 - accuracy: 0.9203 - val_loss: 0.2246 - val_accuracy: 0.9202\n",
            "Epoch 16/20\n",
            "750/750 [==============================] - 87s 116ms/step - loss: 0.2013 - accuracy: 0.9238 - val_loss: 0.2199 - val_accuracy: 0.9236\n",
            "Epoch 17/20\n",
            "750/750 [==============================] - 87s 116ms/step - loss: 0.2026 - accuracy: 0.9241 - val_loss: 0.2181 - val_accuracy: 0.9229\n",
            "Epoch 18/20\n",
            "750/750 [==============================] - 87s 116ms/step - loss: 0.2056 - accuracy: 0.9231 - val_loss: 0.2129 - val_accuracy: 0.9247\n",
            "Epoch 19/20\n",
            "750/750 [==============================] - 87s 116ms/step - loss: 0.2006 - accuracy: 0.9255 - val_loss: 0.2081 - val_accuracy: 0.9269\n",
            "Epoch 20/20\n",
            "750/750 [==============================] - 87s 116ms/step - loss: 0.1932 - accuracy: 0.9266 - val_loss: 0.2118 - val_accuracy: 0.9277\n",
            "INFO:tensorflow:Assets written to: fashion_model_dropout.h5py/assets\n",
            "313/313 [==============================] - 5s 16ms/step - loss: 0.2181 - accuracy: 0.9231\n",
            "Test loss: 0.21813032031059265\n",
            "Test accuracy: 0.9230999946594238\n"
          ],
          "name": "stdout"
        }
      ]
    },
    {
      "cell_type": "code",
      "metadata": {
        "colab": {
          "base_uri": "https://localhost:8080/",
          "height": 545
        },
        "id": "YVO-ll_jUu-2",
        "outputId": "293e00e6-d046-4f02-aa5a-e14052239850"
      },
      "source": [
        "accuracy = fashion_train.history['accuracy']\n",
        "\n",
        "val_accuracy = fashion_train.history['val_accuracy']\n",
        "\n",
        "loss = fashion_train.history['loss']\n",
        "\n",
        "val_loss = fashion_train.history['val_loss']\n",
        "\n",
        "epochs = range(len(accuracy))\n",
        "\n",
        "plt.plot(epochs, accuracy, 'bo', label='Training accuracy')\n",
        "\n",
        "plt.plot(epochs, val_accuracy, 'b', label='Validation accuracy')\n",
        "\n",
        "plt.title('Training and validation accuracy')\n",
        "\n",
        "plt.legend()\n",
        "\n",
        "plt.figure()\n",
        "\n",
        "plt.plot(epochs, loss, 'bo', label='Training loss')\n",
        "\n",
        "plt.plot(epochs, val_loss, 'b', label='Validation loss')\n",
        "\n",
        "plt.title('Training and validation loss')\n",
        "\n",
        "plt.legend()\n",
        "\n",
        "plt.show()"
      ],
      "execution_count": 17,
      "outputs": [
        {
          "output_type": "display_data",
          "data": {
            "image/png": "[encoded data removed]",
            "text/plain": [
              "<Figure size 432x288 with 1 Axes>"
            ]
          },
          "metadata": {
            "tags": [],
            "needs_background": "light"
          }
        },
        {
          "output_type": "display_data",
          "data": {
            "image/png": "[encoded data removed]",
            "text/plain": [
              "<Figure size 432x288 with 1 Axes>"
            ]
          },
          "metadata": {
            "tags": [],
            "needs_background": "light"
          }
        }
      ]
    },
    {
      "cell_type": "markdown",
      "metadata": {
        "id": "22INkRrFUzrc"
      },
      "source": [
        "Predict Labels"
      ]
    },
    {
      "cell_type": "code",
      "metadata": {
        "colab": {
          "base_uri": "https://localhost:8080/",
          "height": 315
        },
        "id": "yaJTVfDPU1v1",
        "outputId": "82e9f2a3-c07d-4ea5-b3bb-98c3e32646a8"
      },
      "source": [
        "predicted_classes = fashion_model.predict(test_X)\n",
        "\n",
        "predicted_classes = np.argmax(np.round(predicted_classes),axis=1)\n",
        "\n",
        "predicted_classes.shape, test_Y.shape\n",
        "\n",
        "correct = np.where(predicted_classes==test_Y)[0]\n",
        "\n",
        "print(f\"Found {len(correct)} correct labels\")\n",
        "\n",
        "for i, correct in enumerate(correct[:9]):\n",
        "\n",
        "  plt.subplot(3,3,i+1)\n",
        "\n",
        "  plt.imshow(test_X[correct].reshape(28,28), cmap='gray', interpolation='none')\n",
        "\n",
        "  plt.title(\"Predicted {}, Class {}\".format(predicted_classes[correct], test_Y[correct]))\n",
        "\n",
        "  plt.tight_layout()"
      ],
      "execution_count": 24,
      "outputs": [
        {
          "output_type": "stream",
          "text": [
            "Found 9201 correct labels\n"
          ],
          "name": "stdout"
        },
        {
          "output_type": "display_data",
          "data": {
            "image/png": "[encoded data removed]",
            "text/plain": [
              "<Figure size 432x288 with 9 Axes>"
            ]
          },
          "metadata": {
            "tags": [],
            "needs_background": "light"
          }
        }
      ]
    }
  ]
}